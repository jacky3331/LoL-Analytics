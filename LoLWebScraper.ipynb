{
 "cells": [
  {
   "cell_type": "code",
   "execution_count": 6,
   "id": "2df4135f",
   "metadata": {},
   "outputs": [],
   "source": [
    "import cassiopeia as cass\n",
    "from cassiopeia import Summoner, Match\n",
    "from cassiopeia.data import Season, Queue\n",
    "from collections import Counter\n",
    "import csv\n",
    "import pandas as pd\n",
    "import numpy as np"
   ]
  },
  {
   "cell_type": "code",
   "execution_count": 7,
   "id": "48052e19",
   "metadata": {},
   "outputs": [],
   "source": [
    "# Setup the Riot API key\n",
    "# Replace expired key w/ key from: https://developer.riotgames.com/\n",
    "cass.set_riot_api_key(\"RGAPI-f60b8ba8-c124-4505-90b8-373dc49752a2\")  "
   ]
  },
  {
   "cell_type": "code",
   "execution_count": 8,
   "id": "9da9f129",
   "metadata": {},
   "outputs": [
    {
     "name": "stdout",
     "output_type": "stream",
     "text": [
      "The Doggo is a level 748 summoner on the Region.north_america server.\n"
     ]
    }
   ],
   "source": [
    "# Initialize league of legends user\n",
    "summoner = cass.get_summoner(name=\"The Doggo\", region=\"NA\")\n",
    "print(\"{name} is a level {level} summoner on the {region} server.\".format(name=summoner.name, level=summoner.level, region=summoner.region))"
   ]
  },
  {
   "cell_type": "code",
   "execution_count": 9,
   "id": "3990cb95",
   "metadata": {},
   "outputs": [],
   "source": [
    "# Retrieve user's solo/duo ranked match history data\n",
    "match_history = cass.get_match_history(continent=summoner.region.continent, puuid=summoner.puuid, queue=Queue.ranked_solo_fives)"
   ]
  },
  {
   "cell_type": "code",
   "execution_count": 10,
   "id": "c93daccd",
   "metadata": {},
   "outputs": [
    {
     "name": "stdout",
     "output_type": "stream",
     "text": [
      "Making call: https://americas.api.riotgames.com/lol/match/v5/matches/by-puuid/i9UV6B8xNyURGOf6HdfuQGCvBH1Mn_FqNTICMLC2_WdKH-wKxZQ00DHVTMqiBscqavaahggLyxSGJQ/ids?beginIndex=0&endIndex=100&queue=420\n"
     ]
    }
   ],
   "source": [
    "# Store summoner data in match_history.csv\n",
    "file_name = \"match_history.csv\"\n",
    "with open(file_name, \"a\", newline=\"\", encoding='utf-8') as csvfile:\n",
    "    filewriter = csv.writer(csvfile, delimiter=\",\", quotechar=\"|\", quoting=csv.QUOTE_MINIMAL, lineterminator='\\n')\n",
    "\n",
    "    for match in match_history:\n",
    "        for p in match.participants:\n",
    "            player_info = []\n",
    "            player_info += [match.id, match.duration, p.summoner.name, p.side.name, p.team_position.name, p.summoner.level, p.stats.win, p.champion.name, p.stats.kills, p.stats.deaths, p.stats.assists, p.stats.damage_dealt_to_turrets, p.stats.gold_earned, p.stats.turret_takedowns, p.stats.vision_score, p.stats.total_minions_killed, p.stats.first_blood_kill, p.stats.first_tower_kill]\n",
    "            filewriter.writerow(player_info)"
   ]
  },
  {
   "cell_type": "code",
   "execution_count": null,
   "id": "81ffe7c4",
   "metadata": {},
   "outputs": [],
   "source": []
  }
 ],
 "metadata": {
  "kernelspec": {
   "display_name": "Python 3",
   "language": "python",
   "name": "python3"
  },
  "language_info": {
   "codemirror_mode": {
    "name": "ipython",
    "version": 3
   },
   "file_extension": ".py",
   "mimetype": "text/x-python",
   "name": "python",
   "nbconvert_exporter": "python",
   "pygments_lexer": "ipython3",
   "version": "3.8.8"
  }
 },
 "nbformat": 4,
 "nbformat_minor": 5
}
