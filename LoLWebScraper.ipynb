{
 "cells": [
  {
   "cell_type": "markdown",
   "id": "81a85c33",
   "metadata": {},
   "source": [
    "# League of Legends Web Scraper 4.0\n",
    "\n",
    "This juypter notebook contains the script that I used to generate my League of Legends match history data set using the Riot Games API library (Cassiopeia)."
   ]
  },
  {
   "cell_type": "code",
   "execution_count": null,
   "id": "2df4135f",
   "metadata": {},
   "outputs": [],
   "source": [
    "# Imports\n",
    "import cassiopeia as cass\n",
    "from cassiopeia import Summoner, Match\n",
    "from cassiopeia.data import Season, Queue\n",
    "from collections import Counter\n",
    "import csv\n",
    "import pandas as pd\n",
    "import numpy as np"
   ]
  },
  {
   "cell_type": "markdown",
   "id": "c6d38490",
   "metadata": {},
   "source": [
    "## Setup\n",
    "In order to use the data mining script I created for League of Legends matches, you must have an official Riot API key which can be found here: https://developer.riotgames.com/\n",
    "\n",
    "The Riot Games API library (Cassiopeia) is a public library which can be used to scrap data from League of Legends matches.\n",
    "\n",
    "Replace the Riot API Key below with a new key (expires daily 24hr)."
   ]
  },
  {
   "cell_type": "code",
   "execution_count": null,
   "id": "48052e19",
   "metadata": {},
   "outputs": [],
   "source": [
    "# Replace expired key below\n",
    "key = \"RGAPI-f60b8ba8-c124-4505-90b8-373dc49752a2\"\n",
    "cass.set_riot_api_key(key)  "
   ]
  },
  {
   "cell_type": "markdown",
   "id": "5b884d0f",
   "metadata": {},
   "source": [
    "## Populating the Data Set\n",
    "\n",
    "My methodology for populating my match history data set is by first generating a \"seed\" which which will influence what type of players that will populate the data set.\n",
    "\n",
    "The idea behind my methodology is to first create a data set which contains matches that the \"seed\" player played in, and then apply the webscraping script again for each player that is already in the data set. \n",
    "\n",
    "The reasoning behind this is that the Riot Games API only allows basic members to retrieve the last 20 match history from a single player, and this isn't enough data to make any insightful models."
   ]
  },
  {
   "cell_type": "code",
   "execution_count": null,
   "id": "9da9f129",
   "metadata": {},
   "outputs": [],
   "source": [
    "# Insert summoner name here to populate the csv file.\n",
    "seed = \"lzd\"\n",
    "\n",
    "summoner = cass.get_summoner(name=seed, region=\"NA\")\n",
    "print(\"{name} is a level {level} summoner on the {region} server.\".format(name=summoner.name, level=summoner.level, region=summoner.region))\n",
    "\n",
    "match_history = cass.get_match_history(continent=summoner.region.continent, puuid=summoner.puuid, queue=Queue.ranked_solo_fives)\n",
    "file_name = \"match_history_test.csv\"\n",
    "\n",
    "with open(file_name, \"a\", newline=\"\", encoding='utf-8') as csvfile:\n",
    "    filewriter = csv.writer(csvfile, delimiter=\",\", quotechar=\"|\", quoting=csv.QUOTE_MINIMAL, lineterminator='\\n')\n",
    "\n",
    "    for match in match_history:\n",
    "        for p in match.participants:\n",
    "            player_info = []\n",
    "            player_info += [match.id, match.duration, p.summoner.name, p.side.name, p.team_position.name, p.summoner.level, p.stats.win, p.champion.name, p.stats.kills, p.stats.deaths, p.stats.assists, p.stats.damage_dealt_to_turrets, p.stats.gold_earned, p.stats.turret_takedowns, p.stats.vision_score, p.stats.total_minions_killed, p.stats.first_blood_kill, p.stats.first_tower_kill]\n",
    "            filewriter.writerow(player_info)"
   ]
  },
  {
   "cell_type": "markdown",
   "id": "1a5055f0",
   "metadata": {},
   "source": [
    "The cell below generates the last 20 match history for each player which played in the games with the \"seed\" player.\n",
    "\n",
    "Despite the limitation for the amount of match history data we can collect, this is a creative way to collect match history data of a similar population of players to our \"seed\" player.\n",
    "\n",
    "There will be duplications in our data set, and should be fixed in the exploratory data analysis portion of any future projects."
   ]
  },
  {
   "cell_type": "code",
   "execution_count": null,
   "id": "3990cb95",
   "metadata": {},
   "outputs": [],
   "source": [
    "data = pd.read_csv(\"match_history.csv\")\n",
    "data = data.drop_duplicates()\n",
    "player = np.unique(data[\"summoner_name\"].tolist()[::-1])\n",
    "\n",
    "\n",
    "for name_ in player:\n",
    "    try:\n",
    "        if name_ != seed:\n",
    "            summoner = cass.get_summoner(name=name_, region=\"NA\")\n",
    "            \n",
    "            print(\"{name} is a level {level} summoner on the {region} server.\".format(name=summoner.name, level=summoner.level, region=summoner.region))\n",
    "            \n",
    "            match_history = cass.get_match_history(continent=summoner.region.continent, puuid=summoner.puuid, queue=Queue.ranked_solo_fives)\n",
    "            file_name = \"match_history_test.csv\"\n",
    "            \n",
    "            with open(file_name, \"a\", newline=\"\", encoding='utf-8') as csvfile:\n",
    "                filewriter = csv.writer(csvfile, delimiter=\",\", quotechar=\"|\", quoting=csv.QUOTE_MINIMAL, lineterminator='\\n')\n",
    "\n",
    "                for match in match_history:\n",
    "                    for p in match.participants:\n",
    "                        player_info = []\n",
    "                        player_info += [match.id, match.duration, p.summoner.name, p.side.name, p.team_position.name, p.summoner.level, p.stats.win, p.champion.name, p.stats.kills, p.stats.deaths, p.stats.assists, p.stats.damage_dealt_to_turrets, p.stats.gold_earned, p.stats.turret_takedowns, p.stats.vision_score, p.stats.total_minions_killed, p.stats.first_blood_kill, p.stats.first_tower_kill]\n",
    "                        filewriter.writerow(player_info)\n",
    "    except:\n",
    "        continue"
   ]
  }
 ],
 "metadata": {
  "kernelspec": {
   "display_name": "Python 3 (ipykernel)",
   "language": "python",
   "name": "python3"
  },
  "language_info": {
   "codemirror_mode": {
    "name": "ipython",
    "version": 3
   },
   "file_extension": ".py",
   "mimetype": "text/x-python",
   "name": "python",
   "nbconvert_exporter": "python",
   "pygments_lexer": "ipython3",
   "version": "3.9.5"
  }
 },
 "nbformat": 4,
 "nbformat_minor": 5
}
